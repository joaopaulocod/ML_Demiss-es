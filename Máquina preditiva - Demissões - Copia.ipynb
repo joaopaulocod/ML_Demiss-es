{
 "cells": [
  {
   "cell_type": "markdown",
   "id": "20ac1e8e",
   "metadata": {},
   "source": [
    "# Importando as bibliotecas"
   ]
  },
  {
   "cell_type": "code",
   "execution_count": 1,
   "id": "01cc666c",
   "metadata": {},
   "outputs": [],
   "source": [
    "import pandas as pd\n",
    "import numpy as np\n",
    "import matplotlib.pyplot as plt\n",
    "import seaborn as sns\n",
    "from imblearn.over_sampling import SMOTE"
   ]
  },
  {
   "cell_type": "markdown",
   "id": "39451896",
   "metadata": {},
   "source": [
    "# Importanto o dataset"
   ]
  },
  {
   "cell_type": "code",
   "execution_count": 2,
   "id": "76642197",
   "metadata": {},
   "outputs": [
    {
     "data": {
      "text/html": [
       "<div>\n",
       "<style scoped>\n",
       "    .dataframe tbody tr th:only-of-type {\n",
       "        vertical-align: middle;\n",
       "    }\n",
       "\n",
       "    .dataframe tbody tr th {\n",
       "        vertical-align: top;\n",
       "    }\n",
       "\n",
       "    .dataframe thead th {\n",
       "        text-align: right;\n",
       "    }\n",
       "</style>\n",
       "<table border=\"1\" class=\"dataframe\">\n",
       "  <thead>\n",
       "    <tr style=\"text-align: right;\">\n",
       "      <th></th>\n",
       "      <th>satisfaction_level</th>\n",
       "      <th>last_evaluation</th>\n",
       "      <th>number_project</th>\n",
       "      <th>average_montly_hours</th>\n",
       "      <th>time_spend_company</th>\n",
       "      <th>Work_accident</th>\n",
       "      <th>left</th>\n",
       "      <th>promotion_last_5years</th>\n",
       "      <th>sales</th>\n",
       "      <th>salary</th>\n",
       "    </tr>\n",
       "  </thead>\n",
       "  <tbody>\n",
       "    <tr>\n",
       "      <th>0</th>\n",
       "      <td>0.38</td>\n",
       "      <td>0.53</td>\n",
       "      <td>2</td>\n",
       "      <td>157</td>\n",
       "      <td>3</td>\n",
       "      <td>0</td>\n",
       "      <td>1</td>\n",
       "      <td>0</td>\n",
       "      <td>sales</td>\n",
       "      <td>low</td>\n",
       "    </tr>\n",
       "    <tr>\n",
       "      <th>1</th>\n",
       "      <td>0.80</td>\n",
       "      <td>0.86</td>\n",
       "      <td>5</td>\n",
       "      <td>262</td>\n",
       "      <td>6</td>\n",
       "      <td>0</td>\n",
       "      <td>1</td>\n",
       "      <td>0</td>\n",
       "      <td>sales</td>\n",
       "      <td>medium</td>\n",
       "    </tr>\n",
       "    <tr>\n",
       "      <th>2</th>\n",
       "      <td>0.11</td>\n",
       "      <td>0.88</td>\n",
       "      <td>7</td>\n",
       "      <td>272</td>\n",
       "      <td>4</td>\n",
       "      <td>0</td>\n",
       "      <td>1</td>\n",
       "      <td>0</td>\n",
       "      <td>sales</td>\n",
       "      <td>medium</td>\n",
       "    </tr>\n",
       "    <tr>\n",
       "      <th>3</th>\n",
       "      <td>0.72</td>\n",
       "      <td>0.87</td>\n",
       "      <td>5</td>\n",
       "      <td>223</td>\n",
       "      <td>5</td>\n",
       "      <td>0</td>\n",
       "      <td>1</td>\n",
       "      <td>0</td>\n",
       "      <td>sales</td>\n",
       "      <td>low</td>\n",
       "    </tr>\n",
       "    <tr>\n",
       "      <th>4</th>\n",
       "      <td>0.37</td>\n",
       "      <td>0.52</td>\n",
       "      <td>2</td>\n",
       "      <td>159</td>\n",
       "      <td>3</td>\n",
       "      <td>0</td>\n",
       "      <td>1</td>\n",
       "      <td>0</td>\n",
       "      <td>sales</td>\n",
       "      <td>low</td>\n",
       "    </tr>\n",
       "  </tbody>\n",
       "</table>\n",
       "</div>"
      ],
      "text/plain": [
       "   satisfaction_level  last_evaluation  number_project  average_montly_hours  \\\n",
       "0                0.38             0.53               2                   157   \n",
       "1                0.80             0.86               5                   262   \n",
       "2                0.11             0.88               7                   272   \n",
       "3                0.72             0.87               5                   223   \n",
       "4                0.37             0.52               2                   159   \n",
       "\n",
       "   time_spend_company  Work_accident  left  promotion_last_5years  sales  \\\n",
       "0                   3              0     1                      0  sales   \n",
       "1                   6              0     1                      0  sales   \n",
       "2                   4              0     1                      0  sales   \n",
       "3                   5              0     1                      0  sales   \n",
       "4                   3              0     1                      0  sales   \n",
       "\n",
       "   salary  \n",
       "0     low  \n",
       "1  medium  \n",
       "2  medium  \n",
       "3     low  \n",
       "4     low  "
      ]
     },
     "execution_count": 2,
     "metadata": {},
     "output_type": "execute_result"
    }
   ],
   "source": [
    "# Abrindo o dataset e visualizando as 5 primeiras linhas\n",
    "\n",
    "arquivo = pd.read_csv('rh_analytics.csv')\n",
    "arquivo.head()"
   ]
  },
  {
   "cell_type": "markdown",
   "id": "b8859a84",
   "metadata": {},
   "source": [
    "# Análise exploratória do dataset"
   ]
  },
  {
   "cell_type": "markdown",
   "id": "5dc5a453",
   "metadata": {},
   "source": [
    "### Visualizando o nome das colunas"
   ]
  },
  {
   "cell_type": "code",
   "execution_count": 3,
   "id": "def34797",
   "metadata": {
    "scrolled": true
   },
   "outputs": [
    {
     "name": "stdout",
     "output_type": "stream",
     "text": [
      "Index(['satisfaction_level', 'last_evaluation', 'number_project',\n",
      "       'average_montly_hours', 'time_spend_company', 'Work_accident', 'left',\n",
      "       'promotion_last_5years', 'sales', 'salary'],\n",
      "      dtype='object')\n"
     ]
    }
   ],
   "source": [
    "print(arquivo.columns)"
   ]
  },
  {
   "cell_type": "markdown",
   "id": "216e8378",
   "metadata": {},
   "source": [
    "* satisfaction_level: Nível de satisfação do colaborador\n",
    "* last_evaluation: Última avaliação que o colaborador teve\n",
    "* number_project: Números de projetos que o colaborador estava envolvido\n",
    "* average_montly_hours: Média de horas trabalhadas por mês\n",
    "* time_spend_company: Tempo médio gasto no escritório\n",
    "* Work_accident: Se teve algum acidente de trabalho\n",
    "* left: Se o funcionário saiu ou não da empresa\n",
    "* promotion_last_5years: Se teve alguma promoção nos últimos 5 anos\n",
    "* sales: Departamento de cada colaborador\n",
    "* salary: Nível de salário do colaborador (baixo, médio, alto)"
   ]
  },
  {
   "cell_type": "markdown",
   "id": "49186cfc",
   "metadata": {},
   "source": [
    "### Renomeando a coluna left para target\n",
    "Dessa forma, fica mais intuítivo para as pessoas entenderem qual será nossa variável Y."
   ]
  },
  {
   "cell_type": "code",
   "execution_count": 4,
   "id": "821a155f",
   "metadata": {},
   "outputs": [
    {
     "name": "stdout",
     "output_type": "stream",
     "text": [
      "Index(['satisfaction_level', 'last_evaluation', 'number_project',\n",
      "       'average_montly_hours', 'time_spend_company', 'Work_accident', 'target',\n",
      "       'promotion_last_5years', 'sales', 'salary'],\n",
      "      dtype='object')\n"
     ]
    }
   ],
   "source": [
    "arquivo.rename(columns = {'left': 'target'}, inplace = True)\n",
    "print(arquivo.columns)"
   ]
  },
  {
   "cell_type": "markdown",
   "id": "7d43f878",
   "metadata": {},
   "source": [
    "### Visualizando as variáveis das nossas colunas\n",
    "Assim podemos visualizar se há algum erro de digitação ou algum outro problema."
   ]
  },
  {
   "cell_type": "code",
   "execution_count": 5,
   "id": "fc782f21",
   "metadata": {},
   "outputs": [],
   "source": [
    "colunas = arquivo.columns"
   ]
  },
  {
   "cell_type": "code",
   "execution_count": 6,
   "id": "3897da23",
   "metadata": {},
   "outputs": [
    {
     "data": {
      "text/plain": [
       "0.10    358\n",
       "0.11    335\n",
       "0.74    257\n",
       "0.77    252\n",
       "0.84    247\n",
       "       ... \n",
       "0.25     34\n",
       "0.28     31\n",
       "0.27     30\n",
       "0.26     30\n",
       "0.12     30\n",
       "Name: satisfaction_level, Length: 92, dtype: int64"
      ]
     },
     "execution_count": 6,
     "metadata": {},
     "output_type": "execute_result"
    }
   ],
   "source": [
    "arquivo[colunas[0]].value_counts()"
   ]
  },
  {
   "cell_type": "code",
   "execution_count": 7,
   "id": "99db678a",
   "metadata": {},
   "outputs": [
    {
     "data": {
      "text/plain": [
       "0.55    358\n",
       "0.50    353\n",
       "0.54    350\n",
       "0.51    345\n",
       "0.57    333\n",
       "       ... \n",
       "0.39     52\n",
       "0.43     50\n",
       "0.38     50\n",
       "0.44     44\n",
       "0.36     22\n",
       "Name: last_evaluation, Length: 65, dtype: int64"
      ]
     },
     "execution_count": 7,
     "metadata": {},
     "output_type": "execute_result"
    }
   ],
   "source": [
    "arquivo[colunas[1]].value_counts()"
   ]
  },
  {
   "cell_type": "code",
   "execution_count": 8,
   "id": "93438ba4",
   "metadata": {},
   "outputs": [
    {
     "data": {
      "text/plain": [
       "4    4365\n",
       "3    4055\n",
       "5    2761\n",
       "2    2388\n",
       "6    1174\n",
       "7     256\n",
       "Name: number_project, dtype: int64"
      ]
     },
     "execution_count": 8,
     "metadata": {},
     "output_type": "execute_result"
    }
   ],
   "source": [
    "arquivo[colunas[2]].value_counts()"
   ]
  },
  {
   "cell_type": "code",
   "execution_count": 9,
   "id": "27546dda",
   "metadata": {},
   "outputs": [
    {
     "data": {
      "text/plain": [
       "135    153\n",
       "156    153\n",
       "149    148\n",
       "151    147\n",
       "160    136\n",
       "      ... \n",
       "297      7\n",
       "288      6\n",
       "299      6\n",
       "96       6\n",
       "303      6\n",
       "Name: average_montly_hours, Length: 215, dtype: int64"
      ]
     },
     "execution_count": 9,
     "metadata": {},
     "output_type": "execute_result"
    }
   ],
   "source": [
    "arquivo[colunas[3]].value_counts()"
   ]
  },
  {
   "cell_type": "code",
   "execution_count": 10,
   "id": "953771e3",
   "metadata": {},
   "outputs": [
    {
     "data": {
      "text/plain": [
       "3     6443\n",
       "2     3244\n",
       "4     2557\n",
       "5     1473\n",
       "6      718\n",
       "10     214\n",
       "7      188\n",
       "8      162\n",
       "Name: time_spend_company, dtype: int64"
      ]
     },
     "execution_count": 10,
     "metadata": {},
     "output_type": "execute_result"
    }
   ],
   "source": [
    "arquivo[colunas[4]].value_counts()"
   ]
  },
  {
   "cell_type": "code",
   "execution_count": 11,
   "id": "4b0e7325",
   "metadata": {},
   "outputs": [
    {
     "data": {
      "text/plain": [
       "0    12830\n",
       "1     2169\n",
       "Name: Work_accident, dtype: int64"
      ]
     },
     "execution_count": 11,
     "metadata": {},
     "output_type": "execute_result"
    }
   ],
   "source": [
    "arquivo[colunas[5]].value_counts()"
   ]
  },
  {
   "cell_type": "code",
   "execution_count": 12,
   "id": "57c4c095",
   "metadata": {},
   "outputs": [
    {
     "data": {
      "text/plain": [
       "0    11428\n",
       "1     3571\n",
       "Name: target, dtype: int64"
      ]
     },
     "execution_count": 12,
     "metadata": {},
     "output_type": "execute_result"
    }
   ],
   "source": [
    "arquivo[colunas[6]].value_counts()"
   ]
  },
  {
   "cell_type": "code",
   "execution_count": 13,
   "id": "45c04d4e",
   "metadata": {},
   "outputs": [
    {
     "data": {
      "text/plain": [
       "0    14680\n",
       "1      319\n",
       "Name: promotion_last_5years, dtype: int64"
      ]
     },
     "execution_count": 13,
     "metadata": {},
     "output_type": "execute_result"
    }
   ],
   "source": [
    "arquivo[colunas[7]].value_counts()"
   ]
  },
  {
   "cell_type": "code",
   "execution_count": 14,
   "id": "6a016a26",
   "metadata": {},
   "outputs": [
    {
     "data": {
      "text/plain": [
       "sales          4140\n",
       "technical      2720\n",
       "support        2229\n",
       "IT             1227\n",
       "product_mng     902\n",
       "marketing       858\n",
       "RandD           787\n",
       "accounting      767\n",
       "hr              739\n",
       "management      630\n",
       "Name: sales, dtype: int64"
      ]
     },
     "execution_count": 14,
     "metadata": {},
     "output_type": "execute_result"
    }
   ],
   "source": [
    "arquivo[colunas[8]].value_counts()"
   ]
  },
  {
   "cell_type": "code",
   "execution_count": 15,
   "id": "378b7dd6",
   "metadata": {},
   "outputs": [
    {
     "data": {
      "text/plain": [
       "low       7316\n",
       "medium    6446\n",
       "high      1237\n",
       "Name: salary, dtype: int64"
      ]
     },
     "execution_count": 15,
     "metadata": {},
     "output_type": "execute_result"
    }
   ],
   "source": [
    "arquivo[colunas[9]].value_counts()"
   ]
  },
  {
   "cell_type": "markdown",
   "id": "e001f318",
   "metadata": {},
   "source": [
    "### Alterando valores da coluna\n",
    "Analisando as colunas, aparentemente todas estão de acordo com o esperado. Entretanto, na coluna sales temos 3 áreas muito similares (technical, support, IT), por conta disso vamos chamar todas de tchnical."
   ]
  },
  {
   "cell_type": "code",
   "execution_count": 16,
   "id": "cdce58a8",
   "metadata": {},
   "outputs": [
    {
     "data": {
      "text/plain": [
       "technical      6176\n",
       "sales          4140\n",
       "product_mng     902\n",
       "marketing       858\n",
       "RandD           787\n",
       "accounting      767\n",
       "hr              739\n",
       "management      630\n",
       "Name: sales, dtype: int64"
      ]
     },
     "execution_count": 16,
     "metadata": {},
     "output_type": "execute_result"
    }
   ],
   "source": [
    "arquivo['sales'] = arquivo['sales'].replace('support', 'technical')\n",
    "arquivo['sales'] = arquivo['sales'].replace('IT', 'technical')\n",
    "arquivo[colunas[8]].value_counts()"
   ]
  },
  {
   "cell_type": "markdown",
   "id": "d8c0cf82",
   "metadata": {},
   "source": [
    "### Visualizando os tipos das colunas"
   ]
  },
  {
   "cell_type": "code",
   "execution_count": 17,
   "id": "ba1bde08",
   "metadata": {},
   "outputs": [
    {
     "data": {
      "text/plain": [
       "satisfaction_level       float64\n",
       "last_evaluation          float64\n",
       "number_project             int64\n",
       "average_montly_hours       int64\n",
       "time_spend_company         int64\n",
       "Work_accident              int64\n",
       "target                     int64\n",
       "promotion_last_5years      int64\n",
       "sales                     object\n",
       "salary                    object\n",
       "dtype: object"
      ]
     },
     "execution_count": 17,
     "metadata": {},
     "output_type": "execute_result"
    }
   ],
   "source": [
    "arquivo.dtypes"
   ]
  },
  {
   "cell_type": "markdown",
   "id": "458a4796",
   "metadata": {},
   "source": [
    "### Removendo as linhas duplicadas caso tenha\n",
    "Como o shape não variou, podemos concluir que não tinha linhas duplicadas."
   ]
  },
  {
   "cell_type": "code",
   "execution_count": 18,
   "id": "3091dc20",
   "metadata": {},
   "outputs": [
    {
     "data": {
      "text/plain": [
       "(14999, 10)"
      ]
     },
     "execution_count": 18,
     "metadata": {},
     "output_type": "execute_result"
    }
   ],
   "source": [
    "arquivo.shape"
   ]
  },
  {
   "cell_type": "code",
   "execution_count": 19,
   "id": "7aabd67e",
   "metadata": {},
   "outputs": [
    {
     "name": "stdout",
     "output_type": "stream",
     "text": [
      "(14999, 10)\n"
     ]
    }
   ],
   "source": [
    "arquivo.drop_duplicates()\n",
    "print(arquivo.shape)"
   ]
  },
  {
   "cell_type": "markdown",
   "id": "34dab3df",
   "metadata": {},
   "source": [
    "### Visualizando valores nulos"
   ]
  },
  {
   "cell_type": "code",
   "execution_count": 20,
   "id": "aaa5465a",
   "metadata": {},
   "outputs": [
    {
     "data": {
      "text/plain": [
       "satisfaction_level       0.0\n",
       "last_evaluation          0.0\n",
       "number_project           0.0\n",
       "average_montly_hours     0.0\n",
       "time_spend_company       0.0\n",
       "Work_accident            0.0\n",
       "target                   0.0\n",
       "promotion_last_5years    0.0\n",
       "sales                    0.0\n",
       "salary                   0.0\n",
       "dtype: float64"
      ]
     },
     "execution_count": 20,
     "metadata": {},
     "output_type": "execute_result"
    }
   ],
   "source": [
    "(arquivo.isnull().sum() / len(arquivo)) * 100"
   ]
  },
  {
   "cell_type": "markdown",
   "id": "a568e553",
   "metadata": {},
   "source": [
    "### Transformando variáveis categóricas em numéricas"
   ]
  },
  {
   "cell_type": "code",
   "execution_count": 21,
   "id": "fb5662cf",
   "metadata": {},
   "outputs": [],
   "source": [
    "salary_encode = pd.get_dummies(arquivo['salary'])\n",
    "sales_encode = pd.get_dummies(arquivo['sales'])"
   ]
  },
  {
   "cell_type": "code",
   "execution_count": 22,
   "id": "51fdfef2",
   "metadata": {},
   "outputs": [
    {
     "data": {
      "text/html": [
       "<div>\n",
       "<style scoped>\n",
       "    .dataframe tbody tr th:only-of-type {\n",
       "        vertical-align: middle;\n",
       "    }\n",
       "\n",
       "    .dataframe tbody tr th {\n",
       "        vertical-align: top;\n",
       "    }\n",
       "\n",
       "    .dataframe thead th {\n",
       "        text-align: right;\n",
       "    }\n",
       "</style>\n",
       "<table border=\"1\" class=\"dataframe\">\n",
       "  <thead>\n",
       "    <tr style=\"text-align: right;\">\n",
       "      <th></th>\n",
       "      <th>satisfaction_level</th>\n",
       "      <th>last_evaluation</th>\n",
       "      <th>number_project</th>\n",
       "      <th>average_montly_hours</th>\n",
       "      <th>time_spend_company</th>\n",
       "      <th>Work_accident</th>\n",
       "      <th>target</th>\n",
       "      <th>promotion_last_5years</th>\n",
       "      <th>high</th>\n",
       "      <th>low</th>\n",
       "      <th>medium</th>\n",
       "      <th>RandD</th>\n",
       "      <th>accounting</th>\n",
       "      <th>hr</th>\n",
       "      <th>management</th>\n",
       "      <th>marketing</th>\n",
       "      <th>product_mng</th>\n",
       "      <th>technical</th>\n",
       "    </tr>\n",
       "  </thead>\n",
       "  <tbody>\n",
       "    <tr>\n",
       "      <th>0</th>\n",
       "      <td>0.38</td>\n",
       "      <td>0.53</td>\n",
       "      <td>2</td>\n",
       "      <td>157</td>\n",
       "      <td>3</td>\n",
       "      <td>0</td>\n",
       "      <td>1</td>\n",
       "      <td>0</td>\n",
       "      <td>0</td>\n",
       "      <td>1</td>\n",
       "      <td>0</td>\n",
       "      <td>0</td>\n",
       "      <td>0</td>\n",
       "      <td>0</td>\n",
       "      <td>0</td>\n",
       "      <td>0</td>\n",
       "      <td>0</td>\n",
       "      <td>0</td>\n",
       "    </tr>\n",
       "    <tr>\n",
       "      <th>1</th>\n",
       "      <td>0.80</td>\n",
       "      <td>0.86</td>\n",
       "      <td>5</td>\n",
       "      <td>262</td>\n",
       "      <td>6</td>\n",
       "      <td>0</td>\n",
       "      <td>1</td>\n",
       "      <td>0</td>\n",
       "      <td>0</td>\n",
       "      <td>0</td>\n",
       "      <td>1</td>\n",
       "      <td>0</td>\n",
       "      <td>0</td>\n",
       "      <td>0</td>\n",
       "      <td>0</td>\n",
       "      <td>0</td>\n",
       "      <td>0</td>\n",
       "      <td>0</td>\n",
       "    </tr>\n",
       "    <tr>\n",
       "      <th>2</th>\n",
       "      <td>0.11</td>\n",
       "      <td>0.88</td>\n",
       "      <td>7</td>\n",
       "      <td>272</td>\n",
       "      <td>4</td>\n",
       "      <td>0</td>\n",
       "      <td>1</td>\n",
       "      <td>0</td>\n",
       "      <td>0</td>\n",
       "      <td>0</td>\n",
       "      <td>1</td>\n",
       "      <td>0</td>\n",
       "      <td>0</td>\n",
       "      <td>0</td>\n",
       "      <td>0</td>\n",
       "      <td>0</td>\n",
       "      <td>0</td>\n",
       "      <td>0</td>\n",
       "    </tr>\n",
       "    <tr>\n",
       "      <th>3</th>\n",
       "      <td>0.72</td>\n",
       "      <td>0.87</td>\n",
       "      <td>5</td>\n",
       "      <td>223</td>\n",
       "      <td>5</td>\n",
       "      <td>0</td>\n",
       "      <td>1</td>\n",
       "      <td>0</td>\n",
       "      <td>0</td>\n",
       "      <td>1</td>\n",
       "      <td>0</td>\n",
       "      <td>0</td>\n",
       "      <td>0</td>\n",
       "      <td>0</td>\n",
       "      <td>0</td>\n",
       "      <td>0</td>\n",
       "      <td>0</td>\n",
       "      <td>0</td>\n",
       "    </tr>\n",
       "    <tr>\n",
       "      <th>4</th>\n",
       "      <td>0.37</td>\n",
       "      <td>0.52</td>\n",
       "      <td>2</td>\n",
       "      <td>159</td>\n",
       "      <td>3</td>\n",
       "      <td>0</td>\n",
       "      <td>1</td>\n",
       "      <td>0</td>\n",
       "      <td>0</td>\n",
       "      <td>1</td>\n",
       "      <td>0</td>\n",
       "      <td>0</td>\n",
       "      <td>0</td>\n",
       "      <td>0</td>\n",
       "      <td>0</td>\n",
       "      <td>0</td>\n",
       "      <td>0</td>\n",
       "      <td>0</td>\n",
       "    </tr>\n",
       "  </tbody>\n",
       "</table>\n",
       "</div>"
      ],
      "text/plain": [
       "   satisfaction_level  last_evaluation  number_project  average_montly_hours  \\\n",
       "0                0.38             0.53               2                   157   \n",
       "1                0.80             0.86               5                   262   \n",
       "2                0.11             0.88               7                   272   \n",
       "3                0.72             0.87               5                   223   \n",
       "4                0.37             0.52               2                   159   \n",
       "\n",
       "   time_spend_company  Work_accident  target  promotion_last_5years  high  \\\n",
       "0                   3              0       1                      0     0   \n",
       "1                   6              0       1                      0     0   \n",
       "2                   4              0       1                      0     0   \n",
       "3                   5              0       1                      0     0   \n",
       "4                   3              0       1                      0     0   \n",
       "\n",
       "   low  medium  RandD  accounting  hr  management  marketing  product_mng  \\\n",
       "0    1       0      0           0   0           0          0            0   \n",
       "1    0       1      0           0   0           0          0            0   \n",
       "2    0       1      0           0   0           0          0            0   \n",
       "3    1       0      0           0   0           0          0            0   \n",
       "4    1       0      0           0   0           0          0            0   \n",
       "\n",
       "   technical  \n",
       "0          0  \n",
       "1          0  \n",
       "2          0  \n",
       "3          0  \n",
       "4          0  "
      ]
     },
     "execution_count": 22,
     "metadata": {},
     "output_type": "execute_result"
    }
   ],
   "source": [
    "arquivo = pd.concat([arquivo, salary_encode], axis = 1)\n",
    "arquivo = pd.concat([arquivo, sales_encode], axis = 1)\n",
    "arquivo.drop(columns = ['sales', 'salary'], axis = 1, inplace = True)\n",
    "arquivo.head()"
   ]
  },
  {
   "cell_type": "markdown",
   "id": "becdd96c",
   "metadata": {},
   "source": [
    "### Separando nossas variáveis"
   ]
  },
  {
   "cell_type": "code",
   "execution_count": 23,
   "id": "ca67be6a",
   "metadata": {},
   "outputs": [],
   "source": [
    "y = arquivo['target']\n",
    "X = arquivo.drop('target', axis = 1)"
   ]
  },
  {
   "cell_type": "markdown",
   "id": "035f9551",
   "metadata": {},
   "source": [
    "### Visualizando o balanceamento da nossa variável target"
   ]
  },
  {
   "cell_type": "code",
   "execution_count": 24,
   "id": "aaf469ad",
   "metadata": {
    "scrolled": true
   },
   "outputs": [
    {
     "data": {
      "image/png": "[encoded data removed]",
      "text/plain": [
       "<Figure size 432x288 with 1 Axes>"
      ]
     },
     "metadata": {
      "needs_background": "light"
     },
     "output_type": "display_data"
    }
   ],
   "source": [
    "sns.countplot(x = y);"
   ]
  },
  {
   "cell_type": "markdown",
   "id": "33f518ff",
   "metadata": {},
   "source": [
    "Como podemos visualizar, nosso target está bem desbalanceado. Por conta disso, vamos utilizar um método de balanceamento chamado oversampling."
   ]
  },
  {
   "cell_type": "markdown",
   "id": "170ddd3f",
   "metadata": {},
   "source": [
    "### Balanceando o dataset"
   ]
  },
  {
   "cell_type": "code",
   "execution_count": 25,
   "id": "decf7ddc",
   "metadata": {},
   "outputs": [],
   "source": [
    "smt = SMOTE()"
   ]
  },
  {
   "cell_type": "code",
   "execution_count": 26,
   "id": "5f531baa",
   "metadata": {},
   "outputs": [],
   "source": [
    "X, y = smt.fit_resample(X, y)"
   ]
  },
  {
   "cell_type": "code",
   "execution_count": 27,
   "id": "61f3f2a3",
   "metadata": {},
   "outputs": [
    {
     "data": {
      "image/png": "[encoded data removed]",
      "text/plain": [
       "<Figure size 432x288 with 1 Axes>"
      ]
     },
     "metadata": {
      "needs_background": "light"
     },
     "output_type": "display_data"
    }
   ],
   "source": [
    "sns.countplot(x = y);"
   ]
  },
  {
   "cell_type": "markdown",
   "id": "f97cd7fd",
   "metadata": {},
   "source": [
    "### Comparando diversos modelos preditivos pela acurácia"
   ]
  },
  {
   "cell_type": "code",
   "execution_count": 28,
   "id": "699dc270",
   "metadata": {},
   "outputs": [],
   "source": [
    "from sklearn.model_selection import StratifiedKFold\n",
    "from sklearn.model_selection import cross_val_score\n",
    "from sklearn.ensemble import GradientBoostingClassifier\n",
    "from sklearn.tree import DecisionTreeClassifier\n",
    "from sklearn.ensemble import RandomForestClassifier\n",
    "\n",
    "def regressoesskfold(x, y, n):\n",
    "    \"\"\"Essa função retorna a acurácia média de cada modelo\"\"\"\n",
    "    \n",
    "    gbc = GradientBoostingClassifier()\n",
    "    dtc = DecisionTreeClassifier()\n",
    "    rfc = RandomForestClassifier()\n",
    "    \n",
    "    skfold = StratifiedKFold(n_splits = n)\n",
    "    resultado_gbc = cross_val_score(gbc, x, y, cv = skfold)\n",
    "    resultado_dtc = cross_val_score(dtc, x, y, cv = skfold)\n",
    "    resultado_rfc = cross_val_score(rfc, x, y, cv = skfold)\n",
    "    \n",
    "    print(f'SKFold Gradient: {resultado_gbc.mean()}\\nSKFold Decision Tree: {resultado_dtc.mean()}\\nSKFold Random Forest: {resultado_rfc.mean()}')"
   ]
  },
  {
   "cell_type": "code",
   "execution_count": 29,
   "id": "6243b5aa",
   "metadata": {},
   "outputs": [
    {
     "name": "stdout",
     "output_type": "stream",
     "text": [
      "SKFold Gradient: 0.9566414937030269\n",
      "SKFold Decision Tree: 0.9667048893007824\n",
      "SKFold Random Forest: 0.9852120131231683\n"
     ]
    }
   ],
   "source": [
    "regressoesskfold(X, y, 5)"
   ]
  },
  {
   "cell_type": "markdown",
   "id": "94f371e3",
   "metadata": {},
   "source": [
    "### Criando a máquina preditiva"
   ]
  },
  {
   "cell_type": "code",
   "execution_count": 30,
   "id": "ea49f379",
   "metadata": {},
   "outputs": [],
   "source": [
    "from sklearn.model_selection import train_test_split\n",
    "\n",
    "X_train, X_test, y_train, y_test = train_test_split(X, y, test_size=0.3, random_state=0)\n",
    "\n",
    "modelo = RandomForestClassifier()"
   ]
  },
  {
   "cell_type": "markdown",
   "id": "5c79bdf5",
   "metadata": {},
   "source": [
    "### Treinando a máquina preditiva"
   ]
  },
  {
   "cell_type": "code",
   "execution_count": 31,
   "id": "cedfcee4",
   "metadata": {},
   "outputs": [
    {
     "name": "stdout",
     "output_type": "stream",
     "text": [
      "Acurácia:  0.9870205629283944\n"
     ]
    }
   ],
   "source": [
    "modelo.fit(X_train, y_train)\n",
    "resultado = modelo.score(X_test, y_test)\n",
    "print('Acurácia: ', resultado)"
   ]
  },
  {
   "cell_type": "markdown",
   "id": "142f137a",
   "metadata": {},
   "source": [
    "### Usando a máquina para prever os colaboradores"
   ]
  },
  {
   "cell_type": "code",
   "execution_count": 32,
   "id": "b19dc176",
   "metadata": {},
   "outputs": [
    {
     "data": {
      "text/plain": [
       "array([0, 1, 0, ..., 0, 0, 1], dtype=int64)"
      ]
     },
     "execution_count": 32,
     "metadata": {},
     "output_type": "execute_result"
    }
   ],
   "source": [
    "predicao = modelo.predict(X_test)\n",
    "predicao"
   ]
  },
  {
   "cell_type": "markdown",
   "id": "521095d3",
   "metadata": {},
   "source": [
    "### Criando a confusion matrix"
   ]
  },
  {
   "cell_type": "code",
   "execution_count": 33,
   "id": "3a67849e",
   "metadata": {},
   "outputs": [
    {
     "name": "stdout",
     "output_type": "stream",
     "text": [
      "[[3416   22]\n",
      " [  67 3352]]\n"
     ]
    }
   ],
   "source": [
    "from sklearn.metrics import confusion_matrix\n",
    "\n",
    "matriz = confusion_matrix(y_test, predicao)\n",
    "print(matriz)"
   ]
  },
  {
   "cell_type": "markdown",
   "id": "60a92ca9",
   "metadata": {},
   "source": [
    "### Criando um mapa de calor para a matriz de confusão"
   ]
  },
  {
   "cell_type": "code",
   "execution_count": 34,
   "id": "9062dea6",
   "metadata": {},
   "outputs": [
    {
     "data": {
      "text/plain": [
       "Text(0.5, 15.0, 'Valor previsto')"
      ]
     },
     "execution_count": 34,
     "metadata": {},
     "output_type": "execute_result"
    },
    {
     "data": {
      "image/png": "[encoded data removed]",
      "text/plain": [
       "<Figure size 432x288 with 2 Axes>"
      ]
     },
     "metadata": {
      "needs_background": "light"
     },
     "output_type": "display_data"
    }
   ],
   "source": [
    "sns.heatmap(matriz, vmin = 0, vmax = 3500, annot = True, cmap = 'Purples', fmt='.5g');\n",
    "plt.ylabel('Valor real')\n",
    "plt.xlabel('Valor previsto')"
   ]
  },
  {
   "cell_type": "code",
   "execution_count": null,
   "id": "b0e90e3c",
   "metadata": {},
   "outputs": [],
   "source": []
  }
 ],
 "metadata": {
  "kernelspec": {
   "display_name": "Python 3 (ipykernel)",
   "language": "python",
   "name": "python3"
  },
  "language_info": {
   "codemirror_mode": {
    "name": "ipython",
    "version": 3
   },
   "file_extension": ".py",
   "mimetype": "text/x-python",
   "name": "python",
   "nbconvert_exporter": "python",
   "pygments_lexer": "ipython3",
   "version": "3.9.12"
  }
 },
 "nbformat": 4,
 "nbformat_minor": 5
}
